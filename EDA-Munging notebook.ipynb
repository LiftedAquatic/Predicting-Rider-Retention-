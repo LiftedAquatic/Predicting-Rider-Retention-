{
 "cells": [
  {
   "cell_type": "markdown",
   "metadata": {},
   "source": [
    "# Rider Retention Prediction "
   ]
  },
  {
   "cell_type": "markdown",
   "metadata": {},
   "source": [
    "This case study makes use of a mock Uber data set. I will be performing EDA and Munging in this notebook and Preprocessing and Modeling in a subsequent one. The goal of this challenge is to uncover which features of the dataset can be used to predict rider retention. The data spans from January through June. We will be defining rentention as; a rider having taken a ride in the final month (June) before this data was collected. The description of the data is as follows:\n",
    "\n",
    "- city: city this user signed up in\n",
    "- phone: primary device for this user\n",
    "- signup_date: date of account registration; in the form ‘YYYYMMDD’\n",
    "- last_trip_date: the last time this user completed a trip; in the form ‘YYYYMMDD’\n",
    "- avg_dist: the average distance in miles per trip taken in the given time window \n",
    "- avg_rating_by_driver: the rider’s average rating over all of their trips\n",
    "- avg_rating_of_driver: the rider’s average rating of their drivers over all of their trips\n",
    "- surge_pct: the percent of trips taken with surge multiplier > 1\n",
    "- avg_surge: The average surge multiplier over all of this user’s trips\n",
    "- trips_in_first_30_days: the number of trips this user took in the first 30 days after signing up\n",
    "- ultimate_black_user: TRUE if the user took an Ultimate Black in their first 30 days; FALSE otherwise\n",
    "- weekday_pct: the percent of the user’s trips occurring during a weekday"
   ]
  },
  {
   "cell_type": "code",
   "execution_count": 142,
   "metadata": {},
   "outputs": [],
   "source": [
    "# import fundamental packages\n",
    "\n",
    "import pandas as pd\n",
    "import numpy as np\n",
    "import matplotlib.pyplot as plt\n",
    "import seaborn as sns\n",
    "import json\n",
    "import math \n",
    "\n",
    "import warnings\n",
    "warnings.filterwarnings('ignore')"
   ]
  },
  {
   "cell_type": "code",
   "execution_count": 143,
   "metadata": {},
   "outputs": [],
   "source": [
    "# import dataset \n",
    "\n",
    "users_df = pd.read_json('rider_data.json')"
   ]
  },
  {
   "cell_type": "markdown",
   "metadata": {},
   "source": [
    "# Fundamental Data Analysis"
   ]
  },
  {
   "cell_type": "code",
   "execution_count": 144,
   "metadata": {},
   "outputs": [
    {
     "data": {
      "text/html": "<div>\n<style scoped>\n    .dataframe tbody tr th:only-of-type {\n        vertical-align: middle;\n    }\n\n    .dataframe tbody tr th {\n        vertical-align: top;\n    }\n\n    .dataframe thead th {\n        text-align: right;\n    }\n</style>\n<table border=\"1\" class=\"dataframe\">\n  <thead>\n    <tr style=\"text-align: right;\">\n      <th></th>\n      <th>city</th>\n      <th>trips_in_first_30_days</th>\n      <th>signup_date</th>\n      <th>avg_rating_of_driver</th>\n      <th>avg_surge</th>\n      <th>last_trip_date</th>\n      <th>phone</th>\n      <th>surge_pct</th>\n      <th>ultimate_black_user</th>\n      <th>weekday_pct</th>\n      <th>avg_dist</th>\n      <th>avg_rating_by_driver</th>\n    </tr>\n  </thead>\n  <tbody>\n    <tr>\n      <th>0</th>\n      <td>King's Landing</td>\n      <td>4</td>\n      <td>2014-01-25</td>\n      <td>4.7</td>\n      <td>1.10</td>\n      <td>2014-06-17</td>\n      <td>iPhone</td>\n      <td>15.4</td>\n      <td>True</td>\n      <td>46.2</td>\n      <td>3.67</td>\n      <td>5.0</td>\n    </tr>\n    <tr>\n      <th>1</th>\n      <td>Astapor</td>\n      <td>0</td>\n      <td>2014-01-29</td>\n      <td>5.0</td>\n      <td>1.00</td>\n      <td>2014-05-05</td>\n      <td>Android</td>\n      <td>0.0</td>\n      <td>False</td>\n      <td>50.0</td>\n      <td>8.26</td>\n      <td>5.0</td>\n    </tr>\n    <tr>\n      <th>2</th>\n      <td>Astapor</td>\n      <td>3</td>\n      <td>2014-01-06</td>\n      <td>4.3</td>\n      <td>1.00</td>\n      <td>2014-01-07</td>\n      <td>iPhone</td>\n      <td>0.0</td>\n      <td>False</td>\n      <td>100.0</td>\n      <td>0.77</td>\n      <td>5.0</td>\n    </tr>\n    <tr>\n      <th>3</th>\n      <td>King's Landing</td>\n      <td>9</td>\n      <td>2014-01-10</td>\n      <td>4.6</td>\n      <td>1.14</td>\n      <td>2014-06-29</td>\n      <td>iPhone</td>\n      <td>20.0</td>\n      <td>True</td>\n      <td>80.0</td>\n      <td>2.36</td>\n      <td>4.9</td>\n    </tr>\n    <tr>\n      <th>4</th>\n      <td>Winterfell</td>\n      <td>14</td>\n      <td>2014-01-27</td>\n      <td>4.4</td>\n      <td>1.19</td>\n      <td>2014-03-15</td>\n      <td>Android</td>\n      <td>11.8</td>\n      <td>False</td>\n      <td>82.4</td>\n      <td>3.13</td>\n      <td>4.9</td>\n    </tr>\n  </tbody>\n</table>\n</div>",
      "text/plain": "             city  trips_in_first_30_days signup_date  avg_rating_of_driver  \\\n0  King's Landing                       4  2014-01-25                   4.7   \n1         Astapor                       0  2014-01-29                   5.0   \n2         Astapor                       3  2014-01-06                   4.3   \n3  King's Landing                       9  2014-01-10                   4.6   \n4      Winterfell                      14  2014-01-27                   4.4   \n\n   avg_surge last_trip_date    phone  surge_pct  ultimate_black_user  \\\n0       1.10     2014-06-17   iPhone       15.4                 True   \n1       1.00     2014-05-05  Android        0.0                False   \n2       1.00     2014-01-07   iPhone        0.0                False   \n3       1.14     2014-06-29   iPhone       20.0                 True   \n4       1.19     2014-03-15  Android       11.8                False   \n\n   weekday_pct  avg_dist  avg_rating_by_driver  \n0         46.2      3.67                   5.0  \n1         50.0      8.26                   5.0  \n2        100.0      0.77                   5.0  \n3         80.0      2.36                   4.9  \n4         82.4      3.13                   4.9  "
     },
     "execution_count": 144,
     "metadata": {},
     "output_type": "execute_result"
    }
   ],
   "source": [
    "# examine the first 5 rows\n",
    "\n",
    "users_df.head()"
   ]
  },
  {
   "cell_type": "code",
   "execution_count": 145,
   "metadata": {},
   "outputs": [
    {
     "data": {
      "text/plain": "city                       object\ntrips_in_first_30_days      int64\nsignup_date                object\navg_rating_of_driver      float64\navg_surge                 float64\nlast_trip_date             object\nphone                      object\nsurge_pct                 float64\nultimate_black_user          bool\nweekday_pct               float64\navg_dist                  float64\navg_rating_by_driver      float64\ndtype: object"
     },
     "execution_count": 145,
     "metadata": {},
     "output_type": "execute_result"
    }
   ],
   "source": [
    "# examine datatypes for each feature \n",
    "\n",
    "users_df.dtypes"
   ]
  },
  {
   "cell_type": "code",
   "execution_count": 146,
   "metadata": {},
   "outputs": [
    {
     "data": {
      "text/plain": "city                         0\ntrips_in_first_30_days       0\nsignup_date                  0\navg_rating_of_driver      8122\navg_surge                    0\nlast_trip_date               0\nphone                      396\nsurge_pct                    0\nultimate_black_user          0\nweekday_pct                  0\navg_dist                     0\navg_rating_by_driver       201\ndtype: int64"
     },
     "execution_count": 146,
     "metadata": {},
     "output_type": "execute_result"
    }
   ],
   "source": [
    "# check for missing values \n",
    "\n",
    "users_df.isna().sum()"
   ]
  },
  {
   "cell_type": "code",
   "execution_count": 147,
   "metadata": {},
   "outputs": [
    {
     "data": {
      "text/html": "<div>\n<style scoped>\n    .dataframe tbody tr th:only-of-type {\n        vertical-align: middle;\n    }\n\n    .dataframe tbody tr th {\n        vertical-align: top;\n    }\n\n    .dataframe thead th {\n        text-align: right;\n    }\n</style>\n<table border=\"1\" class=\"dataframe\">\n  <thead>\n    <tr style=\"text-align: right;\">\n      <th></th>\n      <th>trips_in_first_30_days</th>\n      <th>avg_rating_of_driver</th>\n      <th>avg_surge</th>\n      <th>surge_pct</th>\n      <th>weekday_pct</th>\n      <th>avg_dist</th>\n      <th>avg_rating_by_driver</th>\n    </tr>\n  </thead>\n  <tbody>\n    <tr>\n      <th>count</th>\n      <td>50000.000000</td>\n      <td>41878.000000</td>\n      <td>50000.000000</td>\n      <td>50000.000000</td>\n      <td>50000.000000</td>\n      <td>50000.000000</td>\n      <td>49799.000000</td>\n    </tr>\n    <tr>\n      <th>mean</th>\n      <td>2.278200</td>\n      <td>4.601559</td>\n      <td>1.074764</td>\n      <td>8.849536</td>\n      <td>60.926084</td>\n      <td>5.796827</td>\n      <td>4.778158</td>\n    </tr>\n    <tr>\n      <th>std</th>\n      <td>3.792684</td>\n      <td>0.617338</td>\n      <td>0.222336</td>\n      <td>19.958811</td>\n      <td>37.081503</td>\n      <td>5.707357</td>\n      <td>0.446652</td>\n    </tr>\n    <tr>\n      <th>min</th>\n      <td>0.000000</td>\n      <td>1.000000</td>\n      <td>1.000000</td>\n      <td>0.000000</td>\n      <td>0.000000</td>\n      <td>0.000000</td>\n      <td>1.000000</td>\n    </tr>\n    <tr>\n      <th>25%</th>\n      <td>0.000000</td>\n      <td>4.300000</td>\n      <td>1.000000</td>\n      <td>0.000000</td>\n      <td>33.300000</td>\n      <td>2.420000</td>\n      <td>4.700000</td>\n    </tr>\n    <tr>\n      <th>50%</th>\n      <td>1.000000</td>\n      <td>4.900000</td>\n      <td>1.000000</td>\n      <td>0.000000</td>\n      <td>66.700000</td>\n      <td>3.880000</td>\n      <td>5.000000</td>\n    </tr>\n    <tr>\n      <th>75%</th>\n      <td>3.000000</td>\n      <td>5.000000</td>\n      <td>1.050000</td>\n      <td>8.600000</td>\n      <td>100.000000</td>\n      <td>6.940000</td>\n      <td>5.000000</td>\n    </tr>\n    <tr>\n      <th>max</th>\n      <td>125.000000</td>\n      <td>5.000000</td>\n      <td>8.000000</td>\n      <td>100.000000</td>\n      <td>100.000000</td>\n      <td>160.960000</td>\n      <td>5.000000</td>\n    </tr>\n  </tbody>\n</table>\n</div>",
      "text/plain": "       trips_in_first_30_days  avg_rating_of_driver     avg_surge  \\\ncount            50000.000000          41878.000000  50000.000000   \nmean                 2.278200              4.601559      1.074764   \nstd                  3.792684              0.617338      0.222336   \nmin                  0.000000              1.000000      1.000000   \n25%                  0.000000              4.300000      1.000000   \n50%                  1.000000              4.900000      1.000000   \n75%                  3.000000              5.000000      1.050000   \nmax                125.000000              5.000000      8.000000   \n\n          surge_pct   weekday_pct      avg_dist  avg_rating_by_driver  \ncount  50000.000000  50000.000000  50000.000000          49799.000000  \nmean       8.849536     60.926084      5.796827              4.778158  \nstd       19.958811     37.081503      5.707357              0.446652  \nmin        0.000000      0.000000      0.000000              1.000000  \n25%        0.000000     33.300000      2.420000              4.700000  \n50%        0.000000     66.700000      3.880000              5.000000  \n75%        8.600000    100.000000      6.940000              5.000000  \nmax      100.000000    100.000000    160.960000              5.000000  "
     },
     "execution_count": 147,
     "metadata": {},
     "output_type": "execute_result"
    }
   ],
   "source": [
    "# examine descriptive stats\n",
    "\n",
    "users_df.describe()"
   ]
  },
  {
   "cell_type": "markdown",
   "metadata": {},
   "source": [
    "We will need to perform some data munging to convert our data so every column is of a numeric datatype and impute some missing values. "
   ]
  },
  {
   "cell_type": "markdown",
   "metadata": {},
   "source": [
    "# Data Munging"
   ]
  },
  {
   "cell_type": "code",
   "execution_count": 148,
   "metadata": {},
   "outputs": [],
   "source": [
    "# convert 'signup_date' and 'last_trip_date' columns to datetime objecs \n",
    "\n",
    "users_df.signup_date = pd.to_datetime(users_df.signup_date)\n",
    "users_df.last_trip_date = pd.to_datetime(users_df.last_trip_date)"
   ]
  },
  {
   "cell_type": "code",
   "execution_count": 149,
   "metadata": {},
   "outputs": [
    {
     "name": "stdout",
     "output_type": "stream",
     "text": [
      "iPhone     34582\n",
      "Android    15022\n",
      "Name: phone, dtype: int64\n"
     ]
    },
    {
     "data": {
      "text/plain": "array(['iPhone', 'Android', None], dtype=object)"
     },
     "execution_count": 149,
     "metadata": {},
     "output_type": "execute_result"
    }
   ],
   "source": [
    "# examine 'phone' column\n",
    "\n",
    "print(users_df.phone.value_counts())\n",
    "\n",
    "users_df.phone.unique()"
   ]
  },
  {
   "cell_type": "markdown",
   "metadata": {},
   "source": [
    "There are two types of phone (iPhone + Andriod) as well as some missing values - represented by 'None'. We will make a new value for missing phone type called 'unknown'"
   ]
  },
  {
   "cell_type": "code",
   "execution_count": 150,
   "metadata": {},
   "outputs": [],
   "source": [
    "# convert missing phone values to 'unknown' \n",
    "\n",
    "users_df['phone'] = users_df.phone.apply(lambda x: 'Unknown' if type(x) != str else x)"
   ]
  },
  {
   "cell_type": "markdown",
   "metadata": {},
   "source": [
    "Now we need to address the missing values for the two ratings columns: 'Ratings by drivers' has 201 missing values and 'Ratings of drivers' has 8122 missing values. \n",
    "16% of values are missing for the 'Ratings of drivers' column, which is a potentially troubling amount.\n",
    "Less than 1% of values are missing for 'Ratings by drivers' which is minuscule. "
   ]
  },
  {
   "cell_type": "code",
   "execution_count": 151,
   "metadata": {},
   "outputs": [
    {
     "data": {
      "text/plain": "<AxesSubplot:>"
     },
     "execution_count": 151,
     "metadata": {},
     "output_type": "execute_result"
    },
    {
     "data": {
      "image/png": "[encoded data removed]",
      "text/plain": "<Figure size 1440x216 with 1 Axes>"
     },
     "metadata": {
      "needs_background": "light"
     },
     "output_type": "display_data"
    }
   ],
   "source": [
    "# box plot showing distribution of ratings given to riders by drivers\n",
    "\n",
    "users_df.boxplot(column='avg_rating_by_driver', figsize=(20,3), vert=False)"
   ]
  },
  {
   "cell_type": "code",
   "execution_count": 152,
   "metadata": {},
   "outputs": [
    {
     "data": {
      "text/plain": "<AxesSubplot:>"
     },
     "execution_count": 152,
     "metadata": {},
     "output_type": "execute_result"
    },
    {
     "data": {
      "image/png": "[encoded data removed]",
      "text/plain": "<Figure size 1440x216 with 1 Axes>"
     },
     "metadata": {
      "needs_background": "light"
     },
     "output_type": "display_data"
    }
   ],
   "source": [
    "# box plot showing distribution of ratings given to drivers by riders\n",
    "\n",
    "users_df.boxplot(column='avg_rating_of_driver', figsize=(20,3), vert=False)"
   ]
  },
  {
   "cell_type": "markdown",
   "metadata": {},
   "source": [
    "The ratings scale for both features is limited to a range of 1-5. This prevents any extreme outlier from skewing the mean of our data. "
   ]
  },
  {
   "cell_type": "code",
   "execution_count": 153,
   "metadata": {},
   "outputs": [
    {
     "name": "stdout",
     "output_type": "stream",
     "text": [
      "The average rating given to a rider by a driver is 4.778158195947439\n",
      "The mdeian rating given to a rider by a driver is 5.0\n",
      " \n",
      "The average rating given to a driver by a rider is 4.6015592912744685\n",
      "The median rating given to a driver by a rider is 4.9\n"
     ]
    }
   ],
   "source": [
    "print(f'The average rating given to a rider by a driver is {users_df.avg_rating_by_driver.mean()}')\n",
    "print(f'The mdeian rating given to a rider by a driver is {users_df.avg_rating_by_driver.median()}')\n",
    "\n",
    "print(' ')\n",
    "\n",
    "print(f'The average rating given to a driver by a rider is {users_df.avg_rating_of_driver.mean()}')\n",
    "print(f'The median rating given to a driver by a rider is {users_df.avg_rating_of_driver.median()}')\n"
   ]
  },
  {
   "cell_type": "markdown",
   "metadata": {},
   "source": [
    "The means and medians for ratings are relatively close, the difference between imputing with mean vs. median is nominal. I will impute missing ratings values with the means. "
   ]
  },
  {
   "cell_type": "code",
   "execution_count": 154,
   "metadata": {},
   "outputs": [],
   "source": [
    "# replace missing numeric values with means \n",
    "\n",
    "avg_rating1 = users_df.avg_rating_by_driver.mean()\n",
    "users_df.avg_rating_by_driver = users_df.avg_rating_by_driver.fillna(avg_rating1)\n",
    "\n",
    "avg_rating2 = users_df.avg_rating_of_driver.mean()\n",
    "users_df.avg_rating_of_driver = users_df.avg_rating_of_driver.fillna(avg_rating2)"
   ]
  },
  {
   "cell_type": "markdown",
   "metadata": {},
   "source": [
    "Now there should be no missing values in our data set"
   ]
  },
  {
   "cell_type": "code",
   "execution_count": 155,
   "metadata": {},
   "outputs": [
    {
     "data": {
      "text/plain": "city                      0\ntrips_in_first_30_days    0\nsignup_date               0\navg_rating_of_driver      0\navg_surge                 0\nlast_trip_date            0\nphone                     0\nsurge_pct                 0\nultimate_black_user       0\nweekday_pct               0\navg_dist                  0\navg_rating_by_driver      0\ndtype: int64"
     },
     "execution_count": 155,
     "metadata": {},
     "output_type": "execute_result"
    }
   ],
   "source": [
    "# check to ensure that we have no missing values \n",
    "\n",
    "users_df.isnull().sum()"
   ]
  },
  {
   "cell_type": "markdown",
   "metadata": {},
   "source": [
    "There are 3 categorical features: 'City', 'Phone', and 'Ultimate black user'.\n",
    "We will use a method called dummy encoding or one-hot encoding, which creates a new column for each category and populates each row with a 1 or 0 for that column. "
   ]
  },
  {
   "cell_type": "code",
   "execution_count": 156,
   "metadata": {},
   "outputs": [],
   "source": [
    "# convert 'ultimate_black_user' from True/False boolean values to binary 1/0 of the numeric datatype. \n",
    "\n",
    "users_df['ultimate_black_user'] = users_df.ultimate_black_user.apply(lambda x: 1 if x==True else 0)"
   ]
  },
  {
   "cell_type": "code",
   "execution_count": 157,
   "metadata": {},
   "outputs": [
    {
     "data": {
      "text/plain": "Winterfell        23336\nAstapor           16534\nKing's Landing    10130\nName: city, dtype: int64"
     },
     "execution_count": 157,
     "metadata": {},
     "output_type": "execute_result"
    }
   ],
   "source": [
    "# examine city column \n",
    "\n",
    "users_df.city.value_counts()"
   ]
  },
  {
   "cell_type": "code",
   "execution_count": 158,
   "metadata": {},
   "outputs": [],
   "source": [
    "# first let's make a copy of our dataframe for safekeeping \n",
    "\n",
    "df_user_info = users_df.copy()"
   ]
  },
  {
   "cell_type": "code",
   "execution_count": 159,
   "metadata": {},
   "outputs": [],
   "source": [
    "# dummy encode 'city' and 'phone' columns \n",
    "\n",
    "users_df = pd.get_dummies(users_df, columns=['city', 'phone'], dtype=int)"
   ]
  },
  {
   "cell_type": "code",
   "execution_count": 160,
   "metadata": {},
   "outputs": [
    {
     "data": {
      "text/plain": "trips_in_first_30_days             int64\nsignup_date               datetime64[ns]\navg_rating_of_driver             float64\navg_surge                        float64\nlast_trip_date            datetime64[ns]\nsurge_pct                        float64\nultimate_black_user                int64\nweekday_pct                      float64\navg_dist                         float64\navg_rating_by_driver             float64\ncity_Astapor                       int64\ncity_King's Landing                int64\ncity_Winterfell                    int64\nphone_Android                      int64\nphone_Unknown                      int64\nphone_iPhone                       int64\ndtype: object"
     },
     "execution_count": 160,
     "metadata": {},
     "output_type": "execute_result"
    }
   ],
   "source": [
    "# examine updated datatypes\n",
    "\n",
    "users_df.dtypes"
   ]
  },
  {
   "cell_type": "markdown",
   "metadata": {},
   "source": [
    "There are 5 highly cardinal features. Below we will examine box plots for each feature to take a gander at the distributions. "
   ]
  },
  {
   "cell_type": "code",
   "execution_count": 161,
   "metadata": {},
   "outputs": [
    {
     "name": "stdout",
     "output_type": "stream",
     "text": [
      "AxesSubplot(0.125,0.125;0.775x0.755)\n"
     ]
    },
    {
     "data": {
      "image/png": "[encoded data removed]",
      "text/plain": "<Figure size 1440x216 with 1 Axes>"
     },
     "metadata": {
      "needs_background": "light"
     },
     "output_type": "display_data"
    }
   ],
   "source": [
    "print(users_df.boxplot(column='avg_surge', figsize=(20,3), vert=False))"
   ]
  },
  {
   "cell_type": "code",
   "execution_count": 162,
   "metadata": {},
   "outputs": [
    {
     "name": "stdout",
     "output_type": "stream",
     "text": [
      "AxesSubplot(0.125,0.125;0.775x0.755)\n"
     ]
    },
    {
     "data": {
      "image/png": "[encoded data removed]",
      "text/plain": "<Figure size 1440x216 with 1 Axes>"
     },
     "metadata": {
      "needs_background": "light"
     },
     "output_type": "display_data"
    }
   ],
   "source": [
    "print(users_df.boxplot(column='weekday_pct', figsize=(20,3), vert=False))"
   ]
  },
  {
   "cell_type": "code",
   "execution_count": 163,
   "metadata": {},
   "outputs": [
    {
     "name": "stdout",
     "output_type": "stream",
     "text": [
      "AxesSubplot(0.125,0.125;0.775x0.755)\n"
     ]
    },
    {
     "data": {
      "image/png": "[encoded data removed]",
      "text/plain": "<Figure size 1440x216 with 1 Axes>"
     },
     "metadata": {
      "needs_background": "light"
     },
     "output_type": "display_data"
    }
   ],
   "source": [
    "print(users_df.boxplot(column='avg_dist', figsize=(20,3), vert=False))"
   ]
  },
  {
   "cell_type": "code",
   "execution_count": 164,
   "metadata": {},
   "outputs": [
    {
     "name": "stdout",
     "output_type": "stream",
     "text": [
      "AxesSubplot(0.125,0.125;0.775x0.755)\n"
     ]
    },
    {
     "data": {
      "image/png": "[encoded data removed]",
      "text/plain": "<Figure size 1440x216 with 1 Axes>"
     },
     "metadata": {
      "needs_background": "light"
     },
     "output_type": "display_data"
    }
   ],
   "source": [
    "print(users_df.boxplot(column='surge_pct', figsize=(20,3), vert=False))"
   ]
  },
  {
   "cell_type": "code",
   "execution_count": 165,
   "metadata": {},
   "outputs": [
    {
     "data": {
      "text/plain": "<AxesSubplot:>"
     },
     "execution_count": 165,
     "metadata": {},
     "output_type": "execute_result"
    },
    {
     "data": {
      "image/png": "[encoded data removed]",
      "text/plain": "<Figure size 1440x216 with 1 Axes>"
     },
     "metadata": {
      "needs_background": "light"
     },
     "output_type": "display_data"
    }
   ],
   "source": [
    "users_df.boxplot(column='trips_in_first_30_days', figsize=(20,3), vert=False)"
   ]
  },
  {
   "cell_type": "code",
   "execution_count": 166,
   "metadata": {},
   "outputs": [
    {
     "data": {
      "text/html": "<div>\n<style scoped>\n    .dataframe tbody tr th:only-of-type {\n        vertical-align: middle;\n    }\n\n    .dataframe tbody tr th {\n        vertical-align: top;\n    }\n\n    .dataframe thead th {\n        text-align: right;\n    }\n</style>\n<table border=\"1\" class=\"dataframe\">\n  <thead>\n    <tr style=\"text-align: right;\">\n      <th></th>\n      <th>trips_in_first_30_days</th>\n      <th>signup_date</th>\n      <th>avg_rating_of_driver</th>\n      <th>avg_surge</th>\n      <th>last_trip_date</th>\n      <th>surge_pct</th>\n      <th>ultimate_black_user</th>\n      <th>weekday_pct</th>\n      <th>avg_dist</th>\n      <th>avg_rating_by_driver</th>\n      <th>city_Astapor</th>\n      <th>city_King's Landing</th>\n      <th>city_Winterfell</th>\n      <th>phone_Android</th>\n      <th>phone_Unknown</th>\n      <th>phone_iPhone</th>\n    </tr>\n  </thead>\n  <tbody>\n    <tr>\n      <th>18514</th>\n      <td>125</td>\n      <td>2014-01-02</td>\n      <td>5.0</td>\n      <td>1.12</td>\n      <td>2014-06-30</td>\n      <td>14.4</td>\n      <td>1</td>\n      <td>72.0</td>\n      <td>2.02</td>\n      <td>4.8</td>\n      <td>0</td>\n      <td>1</td>\n      <td>0</td>\n      <td>0</td>\n      <td>0</td>\n      <td>1</td>\n    </tr>\n  </tbody>\n</table>\n</div>",
      "text/plain": "       trips_in_first_30_days signup_date  avg_rating_of_driver  avg_surge  \\\n18514                     125  2014-01-02                   5.0       1.12   \n\n      last_trip_date  surge_pct  ultimate_black_user  weekday_pct  avg_dist  \\\n18514     2014-06-30       14.4                    1         72.0      2.02   \n\n       avg_rating_by_driver  city_Astapor  city_King's Landing  \\\n18514                   4.8             0                    1   \n\n       city_Winterfell  phone_Android  phone_Unknown  phone_iPhone  \n18514                0              0              0             1  "
     },
     "execution_count": 166,
     "metadata": {},
     "output_type": "execute_result"
    }
   ],
   "source": [
    "users_df[users_df['trips_in_first_30_days'] > 120]"
   ]
  },
  {
   "cell_type": "markdown",
   "metadata": {},
   "source": [
    "There's one outlying value of 125 for trips taken in the first 30 days. This seems unlikely. It would be hard to take 125 trips in 30 days. That would be ~4 trips every single day for 30 days. Let's replace this value with the mean of the distribution. "
   ]
  },
  {
   "cell_type": "code",
   "execution_count": 167,
   "metadata": {},
   "outputs": [],
   "source": [
    "# replace outlier with the mean \n",
    "\n",
    "mean = users_df['trips_in_first_30_days'].mean()\n",
    "\n",
    "users_df['trips_in_first_30_days'] = users_df['trips_in_first_30_days'].apply(lambda x: mean if x == 125 else x)"
   ]
  },
  {
   "cell_type": "markdown",
   "metadata": {},
   "source": [
    "Now we will add a target variable column. This column will represent whether or not a rider is considered 'active'. If a rider took a ride in the month leading up to the collection of this data then they are considered active. The column will be binary; 1 for active, 0 for inactive. "
   ]
  },
  {
   "cell_type": "code",
   "execution_count": 168,
   "metadata": {},
   "outputs": [
    {
     "data": {
      "text/plain": "4486    2014-07-01\n43047   2014-07-01\n24059   2014-07-01\n40290   2014-07-01\n28689   2014-07-01\n           ...    \n23907   2014-01-01\n47804   2014-01-01\n11578   2014-01-01\n11573   2014-01-01\n15359   2014-01-01\nName: last_trip_date, Length: 50000, dtype: datetime64[ns]"
     },
     "execution_count": 168,
     "metadata": {},
     "output_type": "execute_result"
    }
   ],
   "source": [
    "# view the earliest and latest possible trip dates (the span of our dataset)\n",
    "\n",
    "users_df.last_trip_date.sort_values(ascending=False)"
   ]
  },
  {
   "cell_type": "code",
   "execution_count": 169,
   "metadata": {},
   "outputs": [],
   "source": [
    "# add target variable \n",
    "# make a column to represent whether or not a user has been active in the last month (from June 1 to July 1) \n",
    "\n",
    "from datetime import timedelta\n",
    "\n",
    "latest_date = users_df['last_trip_date'].max()\n",
    "\n",
    "users_df['active'] = users_df['last_trip_date'].apply(lambda x: 1 if (latest_date - x < timedelta(days=31))  else 0)\n"
   ]
  },
  {
   "cell_type": "markdown",
   "metadata": {},
   "source": [
    "# Futher Exploratory Data Analysis"
   ]
  },
  {
   "cell_type": "code",
   "execution_count": 170,
   "metadata": {},
   "outputs": [
    {
     "data": {
      "text/plain": "50000"
     },
     "execution_count": 170,
     "metadata": {},
     "output_type": "execute_result"
    }
   ],
   "source": [
    "# Did every rider in this data set sign up during January ?\n",
    "\n",
    "len(users_df[users_df['signup_date'].dt.month == 1])"
   ]
  },
  {
   "cell_type": "markdown",
   "metadata": {},
   "source": [
    "Yes. This dataset represents a January cohort. "
   ]
  },
  {
   "cell_type": "code",
   "execution_count": 171,
   "metadata": {},
   "outputs": [
    {
     "data": {
      "text/plain": "8692"
     },
     "execution_count": 171,
     "metadata": {},
     "output_type": "execute_result"
    }
   ],
   "source": [
    "# How many people only used the service within the month they signed up (Jan) and took only 1 or 2 trips? \n",
    "\n",
    "len(users_df[ (users_df['last_trip_date'].dt.month == 1) & (users_df['trips_in_first_30_days'] < 3) ])"
   ]
  },
  {
   "cell_type": "code",
   "execution_count": 172,
   "metadata": {},
   "outputs": [
    {
     "data": {
      "image/png": "[encoded data removed]",
      "text/plain": "<Figure size 1080x216 with 1 Axes>"
     },
     "metadata": {
      "needs_background": "light"
     },
     "output_type": "display_data"
    }
   ],
   "source": [
    "# examine total count of active and inactive users\n",
    "\n",
    "fig, ax = plt.subplots(figsize=(15,3))\n",
    "ax = sns.countplot(y='active', data=users_df)\n",
    "ax.set(xlabel= 'Count', ylabel= 'Status', title=\"Active vs. Inactive Users\")\n",
    "ax.set_yticklabels(['Inactive', 'Active' ])\n",
    "        \n",
    "plt.show()"
   ]
  },
  {
   "cell_type": "code",
   "execution_count": 173,
   "metadata": {},
   "outputs": [
    {
     "name": "stdout",
     "output_type": "stream",
     "text": [
      "There are 18804 active users and 31196 inactive users\n"
     ]
    }
   ],
   "source": [
    "print(f'There are {len(users_df[users_df[\"active\"]== 1])} active users and {len(users_df[users_df[\"active\"]== 0])} inactive users')"
   ]
  },
  {
   "cell_type": "code",
   "execution_count": 174,
   "metadata": {},
   "outputs": [
    {
     "name": "stdout",
     "output_type": "stream",
     "text": [
      "37.61 % of all users are active\n",
      "62.39 % of all users are inactive\n"
     ]
    }
   ],
   "source": [
    "# calculate proportion of users that are active vs inactive \n",
    "\n",
    "active = len(users_df[users_df['active'] == 1]) / len(users_df) * 100\n",
    "inactive = len(users_df[users_df['active'] == 0]) / len(users_df) * 100\n",
    "\n",
    "print(f'{round(active, 2)} % of all users are active')\n",
    "print(f'{round(inactive, 2)} % of all users are inactive')"
   ]
  },
  {
   "cell_type": "markdown",
   "metadata": {},
   "source": [
    "About 38% of riders are 'active' and 62% are 'inactive' "
   ]
  },
  {
   "cell_type": "code",
   "execution_count": 175,
   "metadata": {},
   "outputs": [
    {
     "data": {
      "text/plain": "<AxesSubplot:>"
     },
     "execution_count": 175,
     "metadata": {},
     "output_type": "execute_result"
    },
    {
     "data": {
      "image/png": "[encoded data removed]",
      "text/plain": "<Figure size 1080x576 with 2 Axes>"
     },
     "metadata": {
      "needs_background": "light"
     },
     "output_type": "display_data"
    }
   ],
   "source": [
    "# explore some possible correlations with a heatmap \n",
    "\n",
    "fig, ax = plt.subplots(figsize=(15,8))\n",
    "\n",
    "sns.heatmap(users_df.corr(), linewidths=.5, ax=ax)"
   ]
  },
  {
   "cell_type": "markdown",
   "metadata": {},
   "source": [
    "Based on the heatmap there seems to be some *slight* positive correlation between being active and 'trips in the first 30 days', 'ultimate black user', 'King's Landing city' and 'iPhone user'. \n",
    "\n",
    "Now we will view some bar charts showing correlations between our categorical variables and whether or not a user is active. "
   ]
  },
  {
   "cell_type": "code",
   "execution_count": 176,
   "metadata": {},
   "outputs": [
    {
     "data": {
      "image/png": "[encoded data removed]",
      "text/plain": "<Figure size 1440x360 with 1 Axes>"
     },
     "metadata": {
      "needs_background": "light"
     },
     "output_type": "display_data"
    }
   ],
   "source": [
    "# examine city columns \n",
    "df_with_city = pd.merge(users_df, df_user_info['city'], left_index=True, right_index=True)\n",
    "\n",
    "fig, ax = plt.subplots(figsize=(20,5))\n",
    "ax = sns.countplot(y=\"city\", data=df_with_city, hue=\"active\")\n",
    "ax.set(xlabel= 'Count', ylabel= 'Status', title=\"Active vs. Inactive Users\")\n",
    "plt.show()"
   ]
  },
  {
   "cell_type": "markdown",
   "metadata": {},
   "source": [
    "Very interesting! There is a disproportionately high amount of active users in King's Landing. "
   ]
  },
  {
   "cell_type": "code",
   "execution_count": 177,
   "metadata": {},
   "outputs": [
    {
     "data": {
      "image/png": "[encoded data removed]",
      "text/plain": "<Figure size 1440x360 with 1 Axes>"
     },
     "metadata": {
      "needs_background": "light"
     },
     "output_type": "display_data"
    }
   ],
   "source": [
    "# examine city columns \n",
    "df_with_city = pd.merge(users_df, df_user_info['phone'], left_index=True, right_index=True)\n",
    "\n",
    "fig, ax = plt.subplots(figsize=(20,5))\n",
    "ax = sns.countplot(y=\"phone\", data=df_with_city, hue=\"active\")\n",
    "ax.set(xlabel= 'Count', ylabel= 'Status', title=\"Active vs. Inactive Users\")\n",
    "plt.show()"
   ]
  },
  {
   "cell_type": "markdown",
   "metadata": {},
   "source": [
    "The above graph suggests that iPhone users are alot more likely to be active than Android users. "
   ]
  },
  {
   "cell_type": "code",
   "execution_count": 178,
   "metadata": {},
   "outputs": [
    {
     "data": {
      "text/html": "<div>\n<style scoped>\n    .dataframe tbody tr th:only-of-type {\n        vertical-align: middle;\n    }\n\n    .dataframe tbody tr th {\n        vertical-align: top;\n    }\n\n    .dataframe thead th {\n        text-align: right;\n    }\n</style>\n<table border=\"1\" class=\"dataframe\">\n  <thead>\n    <tr style=\"text-align: right;\">\n      <th></th>\n      <th>trips_in_first_30_days</th>\n      <th>avg_rating_of_driver</th>\n      <th>avg_surge</th>\n      <th>surge_pct</th>\n      <th>ultimate_black_user</th>\n      <th>weekday_pct</th>\n      <th>avg_dist</th>\n      <th>avg_rating_by_driver</th>\n      <th>city_Astapor</th>\n      <th>city_King's Landing</th>\n      <th>city_Winterfell</th>\n      <th>phone_Android</th>\n      <th>phone_Unknown</th>\n      <th>phone_iPhone</th>\n      <th>active</th>\n    </tr>\n  </thead>\n  <tbody>\n    <tr>\n      <th>count</th>\n      <td>18804.000000</td>\n      <td>18804.000000</td>\n      <td>18804.000000</td>\n      <td>18804.000000</td>\n      <td>18804.000000</td>\n      <td>18804.000000</td>\n      <td>18804.000000</td>\n      <td>18804.000000</td>\n      <td>18804.000000</td>\n      <td>18804.000000</td>\n      <td>18804.000000</td>\n      <td>18804.000000</td>\n      <td>18804.000000</td>\n      <td>18804.000000</td>\n      <td>18804.0</td>\n    </tr>\n    <tr>\n      <th>mean</th>\n      <td>3.299791</td>\n      <td>4.593679</td>\n      <td>1.073809</td>\n      <td>9.152797</td>\n      <td>0.505052</td>\n      <td>61.389034</td>\n      <td>5.114788</td>\n      <td>4.762801</td>\n      <td>0.224846</td>\n      <td>0.338385</td>\n      <td>0.436769</td>\n      <td>0.167305</td>\n      <td>0.007073</td>\n      <td>0.825622</td>\n      <td>1.0</td>\n    </tr>\n    <tr>\n      <th>std</th>\n      <td>4.907139</td>\n      <td>0.518319</td>\n      <td>0.163170</td>\n      <td>15.588704</td>\n      <td>0.499988</td>\n      <td>29.487584</td>\n      <td>4.615175</td>\n      <td>0.328175</td>\n      <td>0.417492</td>\n      <td>0.473173</td>\n      <td>0.495999</td>\n      <td>0.373258</td>\n      <td>0.083805</td>\n      <td>0.379444</td>\n      <td>0.0</td>\n    </tr>\n    <tr>\n      <th>min</th>\n      <td>0.000000</td>\n      <td>1.000000</td>\n      <td>1.000000</td>\n      <td>0.000000</td>\n      <td>0.000000</td>\n      <td>0.000000</td>\n      <td>0.000000</td>\n      <td>1.000000</td>\n      <td>0.000000</td>\n      <td>0.000000</td>\n      <td>0.000000</td>\n      <td>0.000000</td>\n      <td>0.000000</td>\n      <td>0.000000</td>\n      <td>1.0</td>\n    </tr>\n    <tr>\n      <th>25%</th>\n      <td>0.000000</td>\n      <td>4.400000</td>\n      <td>1.000000</td>\n      <td>0.000000</td>\n      <td>0.000000</td>\n      <td>44.400000</td>\n      <td>2.560000</td>\n      <td>4.700000</td>\n      <td>0.000000</td>\n      <td>0.000000</td>\n      <td>0.000000</td>\n      <td>0.000000</td>\n      <td>0.000000</td>\n      <td>1.000000</td>\n      <td>1.0</td>\n    </tr>\n    <tr>\n      <th>50%</th>\n      <td>2.000000</td>\n      <td>4.700000</td>\n      <td>1.000000</td>\n      <td>0.000000</td>\n      <td>1.000000</td>\n      <td>64.300000</td>\n      <td>3.730000</td>\n      <td>4.800000</td>\n      <td>0.000000</td>\n      <td>0.000000</td>\n      <td>0.000000</td>\n      <td>0.000000</td>\n      <td>0.000000</td>\n      <td>1.000000</td>\n      <td>1.0</td>\n    </tr>\n    <tr>\n      <th>75%</th>\n      <td>4.000000</td>\n      <td>5.000000</td>\n      <td>1.090000</td>\n      <td>13.300000</td>\n      <td>1.000000</td>\n      <td>84.600000</td>\n      <td>5.890000</td>\n      <td>5.000000</td>\n      <td>0.000000</td>\n      <td>1.000000</td>\n      <td>1.000000</td>\n      <td>0.000000</td>\n      <td>0.000000</td>\n      <td>1.000000</td>\n      <td>1.0</td>\n    </tr>\n    <tr>\n      <th>max</th>\n      <td>71.000000</td>\n      <td>5.000000</td>\n      <td>4.500000</td>\n      <td>100.000000</td>\n      <td>1.000000</td>\n      <td>100.000000</td>\n      <td>160.960000</td>\n      <td>5.000000</td>\n      <td>1.000000</td>\n      <td>1.000000</td>\n      <td>1.000000</td>\n      <td>1.000000</td>\n      <td>1.000000</td>\n      <td>1.000000</td>\n      <td>1.0</td>\n    </tr>\n  </tbody>\n</table>\n</div>",
      "text/plain": "       trips_in_first_30_days  avg_rating_of_driver     avg_surge  \\\ncount            18804.000000          18804.000000  18804.000000   \nmean                 3.299791              4.593679      1.073809   \nstd                  4.907139              0.518319      0.163170   \nmin                  0.000000              1.000000      1.000000   \n25%                  0.000000              4.400000      1.000000   \n50%                  2.000000              4.700000      1.000000   \n75%                  4.000000              5.000000      1.090000   \nmax                 71.000000              5.000000      4.500000   \n\n          surge_pct  ultimate_black_user   weekday_pct      avg_dist  \\\ncount  18804.000000         18804.000000  18804.000000  18804.000000   \nmean       9.152797             0.505052     61.389034      5.114788   \nstd       15.588704             0.499988     29.487584      4.615175   \nmin        0.000000             0.000000      0.000000      0.000000   \n25%        0.000000             0.000000     44.400000      2.560000   \n50%        0.000000             1.000000     64.300000      3.730000   \n75%       13.300000             1.000000     84.600000      5.890000   \nmax      100.000000             1.000000    100.000000    160.960000   \n\n       avg_rating_by_driver  city_Astapor  city_King's Landing  \\\ncount          18804.000000  18804.000000         18804.000000   \nmean               4.762801      0.224846             0.338385   \nstd                0.328175      0.417492             0.473173   \nmin                1.000000      0.000000             0.000000   \n25%                4.700000      0.000000             0.000000   \n50%                4.800000      0.000000             0.000000   \n75%                5.000000      0.000000             1.000000   \nmax                5.000000      1.000000             1.000000   \n\n       city_Winterfell  phone_Android  phone_Unknown  phone_iPhone   active  \ncount     18804.000000   18804.000000   18804.000000  18804.000000  18804.0  \nmean          0.436769       0.167305       0.007073      0.825622      1.0  \nstd           0.495999       0.373258       0.083805      0.379444      0.0  \nmin           0.000000       0.000000       0.000000      0.000000      1.0  \n25%           0.000000       0.000000       0.000000      1.000000      1.0  \n50%           0.000000       0.000000       0.000000      1.000000      1.0  \n75%           1.000000       0.000000       0.000000      1.000000      1.0  \nmax           1.000000       1.000000       1.000000      1.000000      1.0  "
     },
     "execution_count": 178,
     "metadata": {},
     "output_type": "execute_result"
    }
   ],
   "source": [
    "# examine descriptive stats for ONLY active users\n",
    "\n",
    "actives_df = users_df[users_df['active'] == 1]\n",
    "actives_df.describe()"
   ]
  },
  {
   "cell_type": "code",
   "execution_count": 179,
   "metadata": {},
   "outputs": [
    {
     "data": {
      "text/html": "<div>\n<style scoped>\n    .dataframe tbody tr th:only-of-type {\n        vertical-align: middle;\n    }\n\n    .dataframe tbody tr th {\n        vertical-align: top;\n    }\n\n    .dataframe thead th {\n        text-align: right;\n    }\n</style>\n<table border=\"1\" class=\"dataframe\">\n  <thead>\n    <tr style=\"text-align: right;\">\n      <th></th>\n      <th>trips_in_first_30_days</th>\n      <th>avg_rating_of_driver</th>\n      <th>avg_surge</th>\n      <th>surge_pct</th>\n      <th>ultimate_black_user</th>\n      <th>weekday_pct</th>\n      <th>avg_dist</th>\n      <th>avg_rating_by_driver</th>\n      <th>city_Astapor</th>\n      <th>city_King's Landing</th>\n      <th>city_Winterfell</th>\n      <th>phone_Android</th>\n      <th>phone_Unknown</th>\n      <th>phone_iPhone</th>\n      <th>active</th>\n    </tr>\n  </thead>\n  <tbody>\n    <tr>\n      <th>count</th>\n      <td>31196.000000</td>\n      <td>31196.000000</td>\n      <td>31196.000000</td>\n      <td>31196.000000</td>\n      <td>31196.000000</td>\n      <td>31196.000000</td>\n      <td>31196.000000</td>\n      <td>31196.000000</td>\n      <td>31196.000000</td>\n      <td>31196.000000</td>\n      <td>31196.000000</td>\n      <td>31196.000000</td>\n      <td>31196.000000</td>\n      <td>31196.000000</td>\n      <td>31196.0</td>\n    </tr>\n    <tr>\n      <th>mean</th>\n      <td>1.658482</td>\n      <td>4.606309</td>\n      <td>1.075339</td>\n      <td>8.666739</td>\n      <td>0.299942</td>\n      <td>60.647032</td>\n      <td>6.207939</td>\n      <td>4.787415</td>\n      <td>0.394474</td>\n      <td>0.120753</td>\n      <td>0.484774</td>\n      <td>0.380690</td>\n      <td>0.008431</td>\n      <td>0.610880</td>\n      <td>0.0</td>\n    </tr>\n    <tr>\n      <th>std</th>\n      <td>2.654222</td>\n      <td>0.591282</td>\n      <td>0.251361</td>\n      <td>22.179139</td>\n      <td>0.458240</td>\n      <td>40.982688</td>\n      <td>6.238675</td>\n      <td>0.503312</td>\n      <td>0.488745</td>\n      <td>0.325845</td>\n      <td>0.499776</td>\n      <td>0.485564</td>\n      <td>0.091432</td>\n      <td>0.487559</td>\n      <td>0.0</td>\n    </tr>\n    <tr>\n      <th>min</th>\n      <td>0.000000</td>\n      <td>1.000000</td>\n      <td>1.000000</td>\n      <td>0.000000</td>\n      <td>0.000000</td>\n      <td>0.000000</td>\n      <td>0.000000</td>\n      <td>1.000000</td>\n      <td>0.000000</td>\n      <td>0.000000</td>\n      <td>0.000000</td>\n      <td>0.000000</td>\n      <td>0.000000</td>\n      <td>0.000000</td>\n      <td>0.0</td>\n    </tr>\n    <tr>\n      <th>25%</th>\n      <td>0.000000</td>\n      <td>4.500000</td>\n      <td>1.000000</td>\n      <td>0.000000</td>\n      <td>0.000000</td>\n      <td>16.700000</td>\n      <td>2.320000</td>\n      <td>4.800000</td>\n      <td>0.000000</td>\n      <td>0.000000</td>\n      <td>0.000000</td>\n      <td>0.000000</td>\n      <td>0.000000</td>\n      <td>0.000000</td>\n      <td>0.0</td>\n    </tr>\n    <tr>\n      <th>50%</th>\n      <td>1.000000</td>\n      <td>4.800000</td>\n      <td>1.000000</td>\n      <td>0.000000</td>\n      <td>0.000000</td>\n      <td>69.600000</td>\n      <td>4.030000</td>\n      <td>5.000000</td>\n      <td>0.000000</td>\n      <td>0.000000</td>\n      <td>0.000000</td>\n      <td>0.000000</td>\n      <td>0.000000</td>\n      <td>1.000000</td>\n      <td>0.0</td>\n    </tr>\n    <tr>\n      <th>75%</th>\n      <td>2.000000</td>\n      <td>5.000000</td>\n      <td>1.000000</td>\n      <td>0.000000</td>\n      <td>1.000000</td>\n      <td>100.000000</td>\n      <td>7.800000</td>\n      <td>5.000000</td>\n      <td>1.000000</td>\n      <td>0.000000</td>\n      <td>1.000000</td>\n      <td>1.000000</td>\n      <td>0.000000</td>\n      <td>1.000000</td>\n      <td>0.0</td>\n    </tr>\n    <tr>\n      <th>max</th>\n      <td>73.000000</td>\n      <td>5.000000</td>\n      <td>8.000000</td>\n      <td>100.000000</td>\n      <td>1.000000</td>\n      <td>100.000000</td>\n      <td>129.890000</td>\n      <td>5.000000</td>\n      <td>1.000000</td>\n      <td>1.000000</td>\n      <td>1.000000</td>\n      <td>1.000000</td>\n      <td>1.000000</td>\n      <td>1.000000</td>\n      <td>0.0</td>\n    </tr>\n  </tbody>\n</table>\n</div>",
      "text/plain": "       trips_in_first_30_days  avg_rating_of_driver     avg_surge  \\\ncount            31196.000000          31196.000000  31196.000000   \nmean                 1.658482              4.606309      1.075339   \nstd                  2.654222              0.591282      0.251361   \nmin                  0.000000              1.000000      1.000000   \n25%                  0.000000              4.500000      1.000000   \n50%                  1.000000              4.800000      1.000000   \n75%                  2.000000              5.000000      1.000000   \nmax                 73.000000              5.000000      8.000000   \n\n          surge_pct  ultimate_black_user   weekday_pct      avg_dist  \\\ncount  31196.000000         31196.000000  31196.000000  31196.000000   \nmean       8.666739             0.299942     60.647032      6.207939   \nstd       22.179139             0.458240     40.982688      6.238675   \nmin        0.000000             0.000000      0.000000      0.000000   \n25%        0.000000             0.000000     16.700000      2.320000   \n50%        0.000000             0.000000     69.600000      4.030000   \n75%        0.000000             1.000000    100.000000      7.800000   \nmax      100.000000             1.000000    100.000000    129.890000   \n\n       avg_rating_by_driver  city_Astapor  city_King's Landing  \\\ncount          31196.000000  31196.000000         31196.000000   \nmean               4.787415      0.394474             0.120753   \nstd                0.503312      0.488745             0.325845   \nmin                1.000000      0.000000             0.000000   \n25%                4.800000      0.000000             0.000000   \n50%                5.000000      0.000000             0.000000   \n75%                5.000000      1.000000             0.000000   \nmax                5.000000      1.000000             1.000000   \n\n       city_Winterfell  phone_Android  phone_Unknown  phone_iPhone   active  \ncount     31196.000000   31196.000000   31196.000000  31196.000000  31196.0  \nmean          0.484774       0.380690       0.008431      0.610880      0.0  \nstd           0.499776       0.485564       0.091432      0.487559      0.0  \nmin           0.000000       0.000000       0.000000      0.000000      0.0  \n25%           0.000000       0.000000       0.000000      0.000000      0.0  \n50%           0.000000       0.000000       0.000000      1.000000      0.0  \n75%           1.000000       1.000000       0.000000      1.000000      0.0  \nmax           1.000000       1.000000       1.000000      1.000000      0.0  "
     },
     "execution_count": 179,
     "metadata": {},
     "output_type": "execute_result"
    }
   ],
   "source": [
    "# examine descriptive stats for ONLY inactive users\n",
    "\n",
    "inactives_df= users_df[users_df['active'] == 0]\n",
    "inactives_df.describe()"
   ]
  },
  {
   "cell_type": "code",
   "execution_count": 180,
   "metadata": {},
   "outputs": [],
   "source": [
    "# save our cleaned dataset \n",
    "\n",
    "users_df.to_csv('/Users/spence/PROGRAMMING/Uber Rider Retention Prediction /cleaned_rider_data.csv')"
   ]
  },
  {
   "cell_type": "markdown",
   "metadata": {},
   "source": [
    "We have reached the end of our Data Munging and Exploratory Analysis exercise. There is always a good chance that we return to this notebook to make alterations or reexamine the data. We have a solid grasp on the structure of our data and can begin to generate ideas about how we will approach modeling. "
   ]
  }
 ],
 "metadata": {
  "kernelspec": {
   "display_name": "Python 3.8.8 64-bit ('base': conda)",
   "name": "python388jvsc74a57bd0dca0ade3e726a953b501b15e8e990130d2b7799f14cfd9f4271676035ebe5511"
  },
  "language_info": {
   "codemirror_mode": {
    "name": "ipython",
    "version": 3
   },
   "file_extension": ".py",
   "mimetype": "text/x-python",
   "name": "python",
   "nbconvert_exporter": "python",
   "pygments_lexer": "ipython3",
   "version": "3.8.8"
  },
  "orig_nbformat": 3
 },
 "nbformat": 4,
 "nbformat_minor": 4
}